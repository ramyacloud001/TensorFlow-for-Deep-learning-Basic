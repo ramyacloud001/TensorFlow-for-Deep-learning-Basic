{
  "nbformat": 4,
  "nbformat_minor": 0,
  "metadata": {
    "colab": {
      "provenance": []
    },
    "kernelspec": {
      "name": "python3",
      "display_name": "Python 3"
    },
    "language_info": {
      "name": "python"
    },
    "accelerator": "GPU",
    "gpuClass": "standard"
  },
  "cells": [
    {
      "cell_type": "markdown",
      "source": [
        "**TensorFlow Basics**\n",
        "\n",
        "**Entire code file were build by taking the help of TensorFlow Official Documentation: `https://www.tensorflow.org/learn`**\n",
        "\n",
        "- What are Tensors:\n",
        "- Difference in scalar  , vector , Matrix and Tensor:\n",
        "- How to create a tensor:\n",
        "- How to Access tensors:\n",
        "- How to change tensors values if Already Define:\n",
        "- Creating Random values:\n",
        "- Shuffle concept:\n",
        "- Numpy to TensorFlow:\n",
        "- TensorFlow to Numpy:\n",
        "- Finding Extra sections After creating Tensors:\n",
        "- Basics Math Operations\n",
        "- Reshape and Transpose \n",
        "- Changing Datatype \n",
        "- Squeeze \n",
        "- Finding Min  , Max , Sum , mean , argmax , argmin ,square , sqrt ,log\n",
        "- Checking Gpu Availability\n",
        "\n",
        "\n",
        "\n"
      ],
      "metadata": {
        "id": "A6da4lWqLCZ5"
      }
    },
    {
      "cell_type": "code",
      "execution_count": 2,
      "metadata": {
        "id": "TX9T2Sn7KjMu"
      },
      "outputs": [],
      "source": [
        "import numpy as np \n",
        "import tensorflow as tf \n"
      ]
    },
    {
      "cell_type": "code",
      "source": [
        "print(tf.__version__)"
      ],
      "metadata": {
        "colab": {
          "base_uri": "https://localhost:8080/"
        },
        "id": "bI_JTCyYLc02",
        "outputId": "3da375ff-477e-4ee2-9da5-8262dbb3a93f"
      },
      "execution_count": 2,
      "outputs": [
        {
          "output_type": "stream",
          "name": "stdout",
          "text": [
            "2.11.0\n"
          ]
        }
      ]
    },
    {
      "cell_type": "markdown",
      "source": [
        "**First lets check the difference between scalar , vector ,Matrix and tensor**\n",
        "\n",
        "In mathematical terms, a scalar is a single value, a vector is an ordered array of values, a matrix is a 2D array of values, and a tensor is a multi-dimensional array of values. In PyTorch, scalars are represented as 0-dimensional tensors, vectors are represented as 1-dimensional tensors, matrices are represented as 2-dimensional tensors, and tensors can have more than 2 dimensions."
      ],
      "metadata": {
        "id": "bEEVh4YwLjOI"
      }
    },
    {
      "cell_type": "markdown",
      "source": [
        "`so lets creates scalar , vector , matrix and tensors using constant method from tensorflow`"
      ],
      "metadata": {
        "id": "PkYyJHvvMudF"
      }
    },
    {
      "cell_type": "markdown",
      "source": [
        "**Default tensorflow will develop values [tensors] with int32 or float32**"
      ],
      "metadata": {
        "id": "oCYJrbapNkRS"
      }
    },
    {
      "cell_type": "code",
      "source": [
        "scalar = tf.constant(10)\n",
        "scalar"
      ],
      "metadata": {
        "colab": {
          "base_uri": "https://localhost:8080/"
        },
        "id": "RaTu3LjRLhka",
        "outputId": "409717bd-cc49-475d-8e05-8fcc55332c78"
      },
      "execution_count": 3,
      "outputs": [
        {
          "output_type": "execute_result",
          "data": {
            "text/plain": [
              "<tf.Tensor: shape=(), dtype=int32, numpy=10>"
            ]
          },
          "metadata": {},
          "execution_count": 3
        }
      ]
    },
    {
      "cell_type": "code",
      "source": [
        "scalar = tf.constant(10. , dtype = tf.float64)\n",
        "scalar"
      ],
      "metadata": {
        "colab": {
          "base_uri": "https://localhost:8080/"
        },
        "id": "p1pOBcfJM_I2",
        "outputId": "7d1c2bac-c083-40b2-e5d1-e36834933a93"
      },
      "execution_count": 4,
      "outputs": [
        {
          "output_type": "execute_result",
          "data": {
            "text/plain": [
              "<tf.Tensor: shape=(), dtype=float64, numpy=10.0>"
            ]
          },
          "metadata": {},
          "execution_count": 4
        }
      ]
    },
    {
      "cell_type": "code",
      "source": [
        "scalar.ndim"
      ],
      "metadata": {
        "colab": {
          "base_uri": "https://localhost:8080/"
        },
        "id": "oDkQoLYzQFeA",
        "outputId": "7e49ff9f-3d15-4ca8-e31c-c164fc156b77"
      },
      "execution_count": 5,
      "outputs": [
        {
          "output_type": "execute_result",
          "data": {
            "text/plain": [
              "0"
            ]
          },
          "metadata": {},
          "execution_count": 5
        }
      ]
    },
    {
      "cell_type": "code",
      "source": [
        "tf.size(scalar)"
      ],
      "metadata": {
        "colab": {
          "base_uri": "https://localhost:8080/"
        },
        "id": "9F5ZlBFBQwev",
        "outputId": "ff524b07-6374-414b-ccc1-1028db474f0e"
      },
      "execution_count": 6,
      "outputs": [
        {
          "output_type": "execute_result",
          "data": {
            "text/plain": [
              "<tf.Tensor: shape=(), dtype=int32, numpy=1>"
            ]
          },
          "metadata": {},
          "execution_count": 6
        }
      ]
    },
    {
      "cell_type": "code",
      "source": [
        "vector = tf.constant([10 , 2, 3, 11] , dtype = tf.float64)\n",
        "vector"
      ],
      "metadata": {
        "colab": {
          "base_uri": "https://localhost:8080/"
        },
        "id": "SdArGjFtN5vA",
        "outputId": "91e33923-f747-4391-c978-6d5d984c59ba"
      },
      "execution_count": 7,
      "outputs": [
        {
          "output_type": "execute_result",
          "data": {
            "text/plain": [
              "<tf.Tensor: shape=(4,), dtype=float64, numpy=array([10.,  2.,  3., 11.])>"
            ]
          },
          "metadata": {},
          "execution_count": 7
        }
      ]
    },
    {
      "cell_type": "code",
      "source": [
        "vector.shape"
      ],
      "metadata": {
        "colab": {
          "base_uri": "https://localhost:8080/"
        },
        "id": "2fH4JJrJOYCc",
        "outputId": "1637b68b-f391-41d4-a47b-9e2bdac4e429"
      },
      "execution_count": 8,
      "outputs": [
        {
          "output_type": "execute_result",
          "data": {
            "text/plain": [
              "TensorShape([4])"
            ]
          },
          "metadata": {},
          "execution_count": 8
        }
      ]
    },
    {
      "cell_type": "code",
      "source": [
        "vector.ndim"
      ],
      "metadata": {
        "colab": {
          "base_uri": "https://localhost:8080/"
        },
        "id": "KuVWUSpnQJ5R",
        "outputId": "9d06afb2-2e28-4e45-a51b-af55cfe27d1e"
      },
      "execution_count": 9,
      "outputs": [
        {
          "output_type": "execute_result",
          "data": {
            "text/plain": [
              "1"
            ]
          },
          "metadata": {},
          "execution_count": 9
        }
      ]
    },
    {
      "cell_type": "code",
      "source": [
        "tf.size(vector)"
      ],
      "metadata": {
        "colab": {
          "base_uri": "https://localhost:8080/"
        },
        "id": "VEjNhR_HQ0nn",
        "outputId": "a4310a49-8012-467c-8bdf-c1e1e0e0c40f"
      },
      "execution_count": 10,
      "outputs": [
        {
          "output_type": "execute_result",
          "data": {
            "text/plain": [
              "<tf.Tensor: shape=(), dtype=int32, numpy=4>"
            ]
          },
          "metadata": {},
          "execution_count": 10
        }
      ]
    },
    {
      "cell_type": "code",
      "source": [
        "matrix = tf.constant([[1,10,21] , [11,111,41]] , dtype = tf.float64)\n",
        "matrix \n"
      ],
      "metadata": {
        "colab": {
          "base_uri": "https://localhost:8080/"
        },
        "id": "KwuM-h0vOJ_D",
        "outputId": "1dc72490-f0fb-4429-979a-db2281506f71"
      },
      "execution_count": 11,
      "outputs": [
        {
          "output_type": "execute_result",
          "data": {
            "text/plain": [
              "<tf.Tensor: shape=(2, 3), dtype=float64, numpy=\n",
              "array([[  1.,  10.,  21.],\n",
              "       [ 11., 111.,  41.]])>"
            ]
          },
          "metadata": {},
          "execution_count": 11
        }
      ]
    },
    {
      "cell_type": "code",
      "source": [
        "# we can access values with their position in axis \n",
        "# I want to pull out value 41 from above matrix:\n",
        "\n",
        "matrix[1][2]"
      ],
      "metadata": {
        "colab": {
          "base_uri": "https://localhost:8080/"
        },
        "id": "SwbSLZUROder",
        "outputId": "f929d86d-3f56-451b-86d6-969849bd5c27"
      },
      "execution_count": 12,
      "outputs": [
        {
          "output_type": "execute_result",
          "data": {
            "text/plain": [
              "<tf.Tensor: shape=(), dtype=float64, numpy=41.0>"
            ]
          },
          "metadata": {},
          "execution_count": 12
        }
      ]
    },
    {
      "cell_type": "code",
      "source": [
        "matrix.ndim "
      ],
      "metadata": {
        "colab": {
          "base_uri": "https://localhost:8080/"
        },
        "id": "cjxSy4q3QOzu",
        "outputId": "b6f11efa-ace4-4a81-8a97-09da3a094198"
      },
      "execution_count": 13,
      "outputs": [
        {
          "output_type": "execute_result",
          "data": {
            "text/plain": [
              "2"
            ]
          },
          "metadata": {},
          "execution_count": 13
        }
      ]
    },
    {
      "cell_type": "code",
      "source": [
        "matrix.shape"
      ],
      "metadata": {
        "colab": {
          "base_uri": "https://localhost:8080/"
        },
        "id": "1mxtizLbQSpM",
        "outputId": "463cb142-e6ca-4244-d1f9-5deaf146db0b"
      },
      "execution_count": 14,
      "outputs": [
        {
          "output_type": "execute_result",
          "data": {
            "text/plain": [
              "TensorShape([2, 3])"
            ]
          },
          "metadata": {},
          "execution_count": 14
        }
      ]
    },
    {
      "cell_type": "code",
      "source": [
        "tf.size(matrix)"
      ],
      "metadata": {
        "colab": {
          "base_uri": "https://localhost:8080/"
        },
        "id": "uKCjuvvpQ33M",
        "outputId": "9626e6b9-2f99-4f60-b539-a15df0706c0c"
      },
      "execution_count": 15,
      "outputs": [
        {
          "output_type": "execute_result",
          "data": {
            "text/plain": [
              "<tf.Tensor: shape=(), dtype=int32, numpy=6>"
            ]
          },
          "metadata": {},
          "execution_count": 15
        }
      ]
    },
    {
      "cell_type": "code",
      "source": [
        "tensor = tf.constant([[[1,10,21] , [11,111,41]]] , dtype = tf.float64)\n",
        "tensor"
      ],
      "metadata": {
        "colab": {
          "base_uri": "https://localhost:8080/"
        },
        "id": "XnWkdCWfOV1C",
        "outputId": "88246801-8e88-4ac0-aa44-6ca4a7c0a604"
      },
      "execution_count": 16,
      "outputs": [
        {
          "output_type": "execute_result",
          "data": {
            "text/plain": [
              "<tf.Tensor: shape=(1, 2, 3), dtype=float64, numpy=\n",
              "array([[[  1.,  10.,  21.],\n",
              "        [ 11., 111.,  41.]]])>"
            ]
          },
          "metadata": {},
          "execution_count": 16
        }
      ]
    },
    {
      "cell_type": "code",
      "source": [
        "# In the above tensor we are having 2 rows and 3 col and 1 dims \n",
        "# for Accessing the value we need to take dims as an consideration:\n",
        "\n",
        "tensor[0][1][2]  # it is in 0-dim and 1-row and 2-col "
      ],
      "metadata": {
        "colab": {
          "base_uri": "https://localhost:8080/"
        },
        "id": "U73gkEfeOyz6",
        "outputId": "5304b222-1735-4c6a-f310-3bf1f428f5ea"
      },
      "execution_count": 17,
      "outputs": [
        {
          "output_type": "execute_result",
          "data": {
            "text/plain": [
              "<tf.Tensor: shape=(), dtype=float64, numpy=41.0>"
            ]
          },
          "metadata": {},
          "execution_count": 17
        }
      ]
    },
    {
      "cell_type": "code",
      "source": [
        "tensor.ndim "
      ],
      "metadata": {
        "colab": {
          "base_uri": "https://localhost:8080/"
        },
        "id": "Vb6x7NbkPGIt",
        "outputId": "d6a84ca2-dc0d-41a1-fe36-4b67cbb4d62b"
      },
      "execution_count": 18,
      "outputs": [
        {
          "output_type": "execute_result",
          "data": {
            "text/plain": [
              "3"
            ]
          },
          "metadata": {},
          "execution_count": 18
        }
      ]
    },
    {
      "cell_type": "code",
      "source": [
        "tensor.shape "
      ],
      "metadata": {
        "colab": {
          "base_uri": "https://localhost:8080/"
        },
        "id": "EndBPMs0QZ78",
        "outputId": "3035016b-61e5-4284-9238-76170afdc118"
      },
      "execution_count": 19,
      "outputs": [
        {
          "output_type": "execute_result",
          "data": {
            "text/plain": [
              "TensorShape([1, 2, 3])"
            ]
          },
          "metadata": {},
          "execution_count": 19
        }
      ]
    },
    {
      "cell_type": "code",
      "source": [
        "tf.size(tensor)"
      ],
      "metadata": {
        "colab": {
          "base_uri": "https://localhost:8080/"
        },
        "id": "0Hk2Af0tQdqw",
        "outputId": "48ca1803-a119-41e5-cc5a-cb25a3f5dd9f"
      },
      "execution_count": 20,
      "outputs": [
        {
          "output_type": "execute_result",
          "data": {
            "text/plain": [
              "<tf.Tensor: shape=(), dtype=int32, numpy=6>"
            ]
          },
          "metadata": {},
          "execution_count": 20
        }
      ]
    },
    {
      "cell_type": "markdown",
      "source": [
        "**For more details follow tensorflow variable module from here `https://www.tensorflow.org/api_docs/python/tf/Variable`**"
      ],
      "metadata": {
        "id": "29WPqo-MTwE2"
      }
    },
    {
      "cell_type": "code",
      "source": [
        "## There is also another Method called tensorflow variable which is used to create scalar , vector , matrix and tensors:\n",
        "\n",
        "# But the tensors created by tensorflow constant which means it is immutable we can't change, \n",
        "\n",
        "# Now same as constant but tesors created by variable can easy change there tensors values:\n",
        "\n",
        "variable_scalar = tf.Variable(10.1 , dtype = tf.float64)\n",
        "\n",
        "print(variable_scalar)\n",
        "# print(variable_scalar.ndim)\n",
        "print(variable_scalar.shape)\n"
      ],
      "metadata": {
        "colab": {
          "base_uri": "https://localhost:8080/"
        },
        "id": "OozP1An5Q82i",
        "outputId": "0319a41a-9871-4db8-d79e-0752482a7189"
      },
      "execution_count": 21,
      "outputs": [
        {
          "output_type": "stream",
          "name": "stdout",
          "text": [
            "<tf.Variable 'Variable:0' shape=() dtype=float64, numpy=10.1>\n",
            "()\n"
          ]
        }
      ]
    },
    {
      "cell_type": "code",
      "source": [
        "\n",
        "variable_vector = tf.Variable([10.1 , 2.1] , dtype = tf.float64)\n",
        "\n",
        "print(variable_vector)\n",
        "# print(variable_scalar.ndim)\n",
        "print(variable_vector.shape)"
      ],
      "metadata": {
        "colab": {
          "base_uri": "https://localhost:8080/"
        },
        "id": "81knQQZISQz3",
        "outputId": "76f5c26f-b99c-4260-db03-ec60f3f231ec"
      },
      "execution_count": 22,
      "outputs": [
        {
          "output_type": "stream",
          "name": "stdout",
          "text": [
            "<tf.Variable 'Variable:0' shape=(2,) dtype=float64, numpy=array([10.1,  2.1])>\n",
            "(2,)\n"
          ]
        }
      ]
    },
    {
      "cell_type": "code",
      "source": [
        "\n",
        "variable_matrix = tf.Variable([[10.1 , 2.1,5],[1,2,3]] , dtype = tf.float64)\n",
        "\n",
        "print(variable_matrix)\n",
        "# print(variable_scalar.ndim)\n",
        "print(variable_matrix.shape)"
      ],
      "metadata": {
        "colab": {
          "base_uri": "https://localhost:8080/"
        },
        "id": "63QP0LKlSxmB",
        "outputId": "06046121-0180-427a-b92a-0ed712b65ae5"
      },
      "execution_count": 23,
      "outputs": [
        {
          "output_type": "stream",
          "name": "stdout",
          "text": [
            "<tf.Variable 'Variable:0' shape=(2, 3) dtype=float64, numpy=\n",
            "array([[10.1,  2.1,  5. ],\n",
            "       [ 1. ,  2. ,  3. ]])>\n",
            "(2, 3)\n"
          ]
        }
      ]
    },
    {
      "cell_type": "code",
      "source": [
        "variable_tensor = tf.Variable([[[10.1 , 2.1,5],[1,2,3]]] , dtype = tf.float64)\n",
        "\n",
        "print(variable_tensor)\n",
        "# print(variable_scalar.ndim)\n",
        "print(variable_tensor.shape)"
      ],
      "metadata": {
        "colab": {
          "base_uri": "https://localhost:8080/"
        },
        "id": "ilUMyzX-TDj6",
        "outputId": "c2106e58-dae7-464b-806f-9e4f8e23cf18"
      },
      "execution_count": 24,
      "outputs": [
        {
          "output_type": "stream",
          "name": "stdout",
          "text": [
            "<tf.Variable 'Variable:0' shape=(1, 2, 3) dtype=float64, numpy=\n",
            "array([[[10.1,  2.1,  5. ],\n",
            "        [ 1. ,  2. ,  3. ]]])>\n",
            "(1, 2, 3)\n"
          ]
        }
      ]
    },
    {
      "cell_type": "code",
      "source": [
        "variable_tensor[0][1][2]"
      ],
      "metadata": {
        "colab": {
          "base_uri": "https://localhost:8080/"
        },
        "id": "a3Ojg4V-TME2",
        "outputId": "1c79de4e-f25d-451a-e99f-db700e075a1a"
      },
      "execution_count": 25,
      "outputs": [
        {
          "output_type": "execute_result",
          "data": {
            "text/plain": [
              "<tf.Tensor: shape=(), dtype=float64, numpy=3.0>"
            ]
          },
          "metadata": {},
          "execution_count": 25
        }
      ]
    },
    {
      "cell_type": "code",
      "source": [
        "## since constant is a immutable lets check \n",
        "\n",
        "constant_ = tf.constant([[[1,3,4] , [10,11,12]]] ,dtype = tf.float64)\n",
        "constant_"
      ],
      "metadata": {
        "colab": {
          "base_uri": "https://localhost:8080/"
        },
        "id": "gqACDNRjTWor",
        "outputId": "9df4ad5a-7934-47fe-cabf-ce0ba2f69be3"
      },
      "execution_count": 26,
      "outputs": [
        {
          "output_type": "execute_result",
          "data": {
            "text/plain": [
              "<tf.Tensor: shape=(1, 2, 3), dtype=float64, numpy=\n",
              "array([[[ 1.,  3.,  4.],\n",
              "        [10., 11., 12.]]])>"
            ]
          },
          "metadata": {},
          "execution_count": 26
        }
      ]
    },
    {
      "cell_type": "code",
      "source": [
        "# from the above matrix i want to replace value 12 with value 24 --> lets check:\n",
        "\n",
        "constant_[0][1][2]"
      ],
      "metadata": {
        "colab": {
          "base_uri": "https://localhost:8080/"
        },
        "id": "Gt3C6G0JUFvf",
        "outputId": "57c05e2c-9de7-4ad9-cf1a-569d48e9e5bc"
      },
      "execution_count": 27,
      "outputs": [
        {
          "output_type": "execute_result",
          "data": {
            "text/plain": [
              "<tf.Tensor: shape=(), dtype=float64, numpy=12.0>"
            ]
          },
          "metadata": {},
          "execution_count": 27
        }
      ]
    },
    {
      "cell_type": "code",
      "source": [
        "constant_[0][1][2] = 24."
      ],
      "metadata": {
        "colab": {
          "base_uri": "https://localhost:8080/",
          "height": 166
        },
        "id": "5LwJLDbQUVW5",
        "outputId": "f5e1382d-0e73-445c-b66a-b4acd0f30e9e"
      },
      "execution_count": 28,
      "outputs": [
        {
          "output_type": "error",
          "ename": "TypeError",
          "evalue": "ignored",
          "traceback": [
            "\u001b[0;31m---------------------------------------------------------------------------\u001b[0m",
            "\u001b[0;31mTypeError\u001b[0m                                 Traceback (most recent call last)",
            "\u001b[0;32m<ipython-input-28-2161030717aa>\u001b[0m in \u001b[0;36m<module>\u001b[0;34m\u001b[0m\n\u001b[0;32m----> 1\u001b[0;31m \u001b[0mconstant_\u001b[0m\u001b[0;34m[\u001b[0m\u001b[0;36m0\u001b[0m\u001b[0;34m]\u001b[0m\u001b[0;34m[\u001b[0m\u001b[0;36m1\u001b[0m\u001b[0;34m]\u001b[0m\u001b[0;34m[\u001b[0m\u001b[0;36m2\u001b[0m\u001b[0;34m]\u001b[0m \u001b[0;34m=\u001b[0m \u001b[0;36m24.\u001b[0m\u001b[0;34m\u001b[0m\u001b[0;34m\u001b[0m\u001b[0m\n\u001b[0m",
            "\u001b[0;31mTypeError\u001b[0m: 'tensorflow.python.framework.ops.EagerTensor' object does not support item assignment"
          ]
        }
      ]
    },
    {
      "cell_type": "code",
      "source": [
        "# Now variable is mutable let's check it \n",
        "\n",
        "variable_ = tf.Variable([10,11,12] , dtype = tf.float64)\n",
        "variable_"
      ],
      "metadata": {
        "colab": {
          "base_uri": "https://localhost:8080/"
        },
        "id": "pbgq70MfUeBj",
        "outputId": "d4e0c010-a78b-4a93-9075-6b2ce0467228"
      },
      "execution_count": 29,
      "outputs": [
        {
          "output_type": "execute_result",
          "data": {
            "text/plain": [
              "<tf.Variable 'Variable:0' shape=(3,) dtype=float64, numpy=array([10., 11., 12.])>"
            ]
          },
          "metadata": {},
          "execution_count": 29
        }
      ]
    },
    {
      "cell_type": "code",
      "source": [
        "variable_[2]"
      ],
      "metadata": {
        "colab": {
          "base_uri": "https://localhost:8080/"
        },
        "id": "aCJwaOkZU_x9",
        "outputId": "d9dcae83-3532-4412-8e6a-9c1a60f73545"
      },
      "execution_count": 30,
      "outputs": [
        {
          "output_type": "execute_result",
          "data": {
            "text/plain": [
              "<tf.Tensor: shape=(), dtype=float64, numpy=12.0>"
            ]
          },
          "metadata": {},
          "execution_count": 30
        }
      ]
    },
    {
      "cell_type": "code",
      "source": [
        "variable_[2].assign(24)  # assign method is used to add the value for existing tensor:"
      ],
      "metadata": {
        "colab": {
          "base_uri": "https://localhost:8080/"
        },
        "id": "0Q7V-HkBVCHp",
        "outputId": "644b20d0-1da5-4179-9a5c-9eb3c06cc19f"
      },
      "execution_count": 31,
      "outputs": [
        {
          "output_type": "execute_result",
          "data": {
            "text/plain": [
              "<tf.Variable 'UnreadVariable' shape=(3,) dtype=float64, numpy=array([10., 11., 24.])>"
            ]
          },
          "metadata": {},
          "execution_count": 31
        }
      ]
    },
    {
      "cell_type": "code",
      "source": [
        "variable_"
      ],
      "metadata": {
        "colab": {
          "base_uri": "https://localhost:8080/"
        },
        "id": "nZTXJ0HfVFmo",
        "outputId": "23ef104f-a2f7-4c1a-d110-cae3268b01db"
      },
      "execution_count": 32,
      "outputs": [
        {
          "output_type": "execute_result",
          "data": {
            "text/plain": [
              "<tf.Variable 'Variable:0' shape=(3,) dtype=float64, numpy=array([10., 11., 24.])>"
            ]
          },
          "metadata": {},
          "execution_count": 32
        }
      ]
    },
    {
      "cell_type": "markdown",
      "source": [
        "**Creating Random Tensors:**\n",
        "\n",
        "`Follow documentation  :https://www.tensorflow.org/api_docs/python/tf/random/normal`"
      ],
      "metadata": {
        "id": "ke9uqOPFe9T8"
      }
    },
    {
      "cell_type": "code",
      "source": [
        "## seed concept is same everywhere like not to generate different different values:\n",
        "# if we use seed so all the values will be same after many executions also:"
      ],
      "metadata": {
        "id": "lo1dpnznha1c"
      },
      "execution_count": 33,
      "outputs": []
    },
    {
      "cell_type": "code",
      "source": [
        "# Create two random (but the same) tensors\n",
        "value1 = tf.random.Generator.from_seed(42)\n",
        "value1 = value1.uniform(shape = (3,2))\n",
        "value1"
      ],
      "metadata": {
        "colab": {
          "base_uri": "https://localhost:8080/"
        },
        "id": "4yuUCSFug3xP",
        "outputId": "625551fe-aeaf-47e7-a82c-0dc9f9c71bd8"
      },
      "execution_count": 34,
      "outputs": [
        {
          "output_type": "execute_result",
          "data": {
            "text/plain": [
              "<tf.Tensor: shape=(3, 2), dtype=float32, numpy=\n",
              "array([[0.7493447 , 0.73561966],\n",
              "       [0.45230794, 0.49039817],\n",
              "       [0.1889317 , 0.52027524]], dtype=float32)>"
            ]
          },
          "metadata": {},
          "execution_count": 34
        }
      ]
    },
    {
      "cell_type": "code",
      "source": [
        "# Create two random (but the same) tensors\n",
        "random_1 = tf.random.Generator.from_seed(42) # set the seed for reproducibility\n",
        "random_1 = random_1.normal(shape=(3, 2)) # create tensor from a normal distribution \n",
        "random_2 = tf.random.Generator.from_seed(42)\n",
        "random_2 = random_2.normal(shape=(3, 2))\n",
        "\n",
        "# Are they equal?\n",
        "random_1, random_2, random_1 == random_2\n",
        "     "
      ],
      "metadata": {
        "colab": {
          "base_uri": "https://localhost:8080/"
        },
        "id": "2dcPmg7tYWgf",
        "outputId": "d153ab13-df34-425a-cbcf-618a4d5b4f6f"
      },
      "execution_count": 35,
      "outputs": [
        {
          "output_type": "execute_result",
          "data": {
            "text/plain": [
              "(<tf.Tensor: shape=(3, 2), dtype=float32, numpy=\n",
              " array([[-0.7565803 , -0.06854702],\n",
              "        [ 0.07595026, -1.2573844 ],\n",
              "        [-0.23193763, -1.8107855 ]], dtype=float32)>,\n",
              " <tf.Tensor: shape=(3, 2), dtype=float32, numpy=\n",
              " array([[-0.7565803 , -0.06854702],\n",
              "        [ 0.07595026, -1.2573844 ],\n",
              "        [-0.23193763, -1.8107855 ]], dtype=float32)>,\n",
              " <tf.Tensor: shape=(3, 2), dtype=bool, numpy=\n",
              " array([[ True,  True],\n",
              "        [ True,  True],\n",
              "        [ True,  True]])>)"
            ]
          },
          "metadata": {},
          "execution_count": 35
        }
      ]
    },
    {
      "cell_type": "markdown",
      "source": [
        "**Creating a single random tensor**\n"
      ],
      "metadata": {
        "id": "DfY0DLp8jqG7"
      }
    },
    {
      "cell_type": "code",
      "source": [
        "value = tf.random.uniform(shape = ())\n",
        "value"
      ],
      "metadata": {
        "colab": {
          "base_uri": "https://localhost:8080/"
        },
        "id": "HcMt9e7Nhwr5",
        "outputId": "7cdb1c81-f48a-4e8d-de23-3432d71e3dc9"
      },
      "execution_count": 36,
      "outputs": [
        {
          "output_type": "execute_result",
          "data": {
            "text/plain": [
              "<tf.Tensor: shape=(), dtype=float32, numpy=0.9604839>"
            ]
          },
          "metadata": {},
          "execution_count": 36
        }
      ]
    },
    {
      "cell_type": "code",
      "source": [
        "value = tf.random.normal(shape = ())\n",
        "value"
      ],
      "metadata": {
        "colab": {
          "base_uri": "https://localhost:8080/"
        },
        "id": "c1KrlP80jwy0",
        "outputId": "e61f6e1e-2d24-4d39-8a35-cc7bcc3b1948"
      },
      "execution_count": 37,
      "outputs": [
        {
          "output_type": "execute_result",
          "data": {
            "text/plain": [
              "<tf.Tensor: shape=(), dtype=float32, numpy=-0.21569777>"
            ]
          },
          "metadata": {},
          "execution_count": 37
        }
      ]
    },
    {
      "cell_type": "code",
      "source": [
        "value = tf.random.normal(shape = (5,6))\n",
        "value"
      ],
      "metadata": {
        "colab": {
          "base_uri": "https://localhost:8080/"
        },
        "id": "iwyOcp8-j9Hu",
        "outputId": "937e21d9-294e-427d-f834-cbdeb6797a54"
      },
      "execution_count": 38,
      "outputs": [
        {
          "output_type": "execute_result",
          "data": {
            "text/plain": [
              "<tf.Tensor: shape=(5, 6), dtype=float32, numpy=\n",
              "array([[ 1.3345275 ,  0.00539481, -0.8363344 , -0.37406775,  1.3405565 ,\n",
              "         0.550286  ],\n",
              "       [-0.34083277, -0.778345  ,  0.02346062,  0.30682805,  1.2187096 ,\n",
              "        -1.2947935 ],\n",
              "       [-0.42938223, -0.09969702,  0.17124985, -0.5511038 ,  0.7477511 ,\n",
              "        -0.2633123 ],\n",
              "       [ 1.0339829 ,  1.1837286 , -0.42881265, -0.9093057 ,  0.5934744 ,\n",
              "         1.1250869 ],\n",
              "       [ 1.3403276 ,  1.2939974 ,  0.9693469 , -0.74248904,  0.22531442,\n",
              "        -0.451263  ]], dtype=float32)>"
            ]
          },
          "metadata": {},
          "execution_count": 38
        }
      ]
    },
    {
      "cell_type": "markdown",
      "source": [
        "**shuffle** \n",
        "\n",
        "Tensorflow Random shuffle `https://www.tensorflow.org/api_docs/python/tf/random/shuffle`"
      ],
      "metadata": {
        "id": "jlEDMIbRmAyf"
      }
    },
    {
      "cell_type": "code",
      "source": [
        "# just to shuffle the data Randomlly:\n",
        "\n",
        "value = tf.constant([[1,2,1] , [10,11,100],[21,221,200]],dtype = tf.float64)\n",
        "print(value)\n",
        "shuffle_values = tf.random.shuffle(value = value)\n",
        "print(shuffle_values)"
      ],
      "metadata": {
        "colab": {
          "base_uri": "https://localhost:8080/"
        },
        "id": "quZiezDpkM5M",
        "outputId": "f2a340a1-054d-446e-e985-484095d7b551"
      },
      "execution_count": 39,
      "outputs": [
        {
          "output_type": "stream",
          "name": "stdout",
          "text": [
            "tf.Tensor(\n",
            "[[  1.   2.   1.]\n",
            " [ 10.  11. 100.]\n",
            " [ 21. 221. 200.]], shape=(3, 3), dtype=float64)\n",
            "tf.Tensor(\n",
            "[[  1.   2.   1.]\n",
            " [ 21. 221. 200.]\n",
            " [ 10.  11. 100.]], shape=(3, 3), dtype=float64)\n"
          ]
        }
      ]
    },
    {
      "cell_type": "code",
      "source": [
        "# For Making shuffle data Not to change Just used seed:\n",
        "value1 = tf.constant([[1,2,1] , [10,11,100],[21,221,200]],dtype = tf.float64)\n",
        "print(value1)"
      ],
      "metadata": {
        "colab": {
          "base_uri": "https://localhost:8080/"
        },
        "id": "AJ9XKHMTmW-B",
        "outputId": "1a872396-7122-440f-953b-0792c7178adf"
      },
      "execution_count": 40,
      "outputs": [
        {
          "output_type": "stream",
          "name": "stdout",
          "text": [
            "tf.Tensor(\n",
            "[[  1.   2.   1.]\n",
            " [ 10.  11. 100.]\n",
            " [ 21. 221. 200.]], shape=(3, 3), dtype=float64)\n"
          ]
        }
      ]
    },
    {
      "cell_type": "code",
      "source": [
        "tf.random.set_seed(42)\n",
        "shuffle_values = tf.random.shuffle(value = value1)\n",
        "print(shuffle_values)"
      ],
      "metadata": {
        "colab": {
          "base_uri": "https://localhost:8080/"
        },
        "id": "b-q4aSnhnFxA",
        "outputId": "f5d4eecf-41da-4bb9-9e3b-11cc0d7cb438"
      },
      "execution_count": 41,
      "outputs": [
        {
          "output_type": "stream",
          "name": "stdout",
          "text": [
            "tf.Tensor(\n",
            "[[ 10.  11. 100.]\n",
            " [ 21. 221. 200.]\n",
            " [  1.   2.   1.]], shape=(3, 3), dtype=float64)\n"
          ]
        }
      ]
    },
    {
      "cell_type": "markdown",
      "source": [
        "**Zeros**\n",
        "\n",
        "`Making tensors with complete Zero https://www.tensorflow.org/api_docs/python/tf/zeros`\n",
        "\n"
      ],
      "metadata": {
        "id": "wwSFdonbn5Jg"
      }
    },
    {
      "cell_type": "code",
      "source": [
        "tensor_zero = tf.zeros(shape = (3,3) , dtype = tf.float32)\n",
        "tensor_zero"
      ],
      "metadata": {
        "colab": {
          "base_uri": "https://localhost:8080/"
        },
        "id": "M00fSMAencxK",
        "outputId": "1b797d7f-7950-43cb-8046-db9f819e9378"
      },
      "execution_count": 42,
      "outputs": [
        {
          "output_type": "execute_result",
          "data": {
            "text/plain": [
              "<tf.Tensor: shape=(3, 3), dtype=float32, numpy=\n",
              "array([[0., 0., 0.],\n",
              "       [0., 0., 0.],\n",
              "       [0., 0., 0.]], dtype=float32)>"
            ]
          },
          "metadata": {},
          "execution_count": 42
        }
      ]
    },
    {
      "cell_type": "code",
      "source": [
        "tensor_zero = tf.zeros(shape = (5,3) , dtype = tf.int32)\n",
        "tensor_zero"
      ],
      "metadata": {
        "colab": {
          "base_uri": "https://localhost:8080/"
        },
        "id": "SoRk15qhoUeb",
        "outputId": "65b43c8c-b179-4f42-962b-b88dd4bac8dc"
      },
      "execution_count": 43,
      "outputs": [
        {
          "output_type": "execute_result",
          "data": {
            "text/plain": [
              "<tf.Tensor: shape=(5, 3), dtype=int32, numpy=\n",
              "array([[0, 0, 0],\n",
              "       [0, 0, 0],\n",
              "       [0, 0, 0],\n",
              "       [0, 0, 0],\n",
              "       [0, 0, 0]], dtype=int32)>"
            ]
          },
          "metadata": {},
          "execution_count": 43
        }
      ]
    },
    {
      "cell_type": "markdown",
      "source": [
        "**Ones**\n",
        "\n",
        "`Creating Tensors with complete ones: https://www.tensorflow.org/api_docs/python/tf/ones`"
      ],
      "metadata": {
        "id": "5e3leo7zobnd"
      }
    },
    {
      "cell_type": "code",
      "source": [
        "tensor_ones = tf.ones(shape = (5,6), dtype = tf.float32)\n",
        "tensor_ones"
      ],
      "metadata": {
        "colab": {
          "base_uri": "https://localhost:8080/"
        },
        "id": "kmiSTL0QoVzu",
        "outputId": "8bb34213-f6e0-46d7-b4c8-279c4efdd644"
      },
      "execution_count": 44,
      "outputs": [
        {
          "output_type": "execute_result",
          "data": {
            "text/plain": [
              "<tf.Tensor: shape=(5, 6), dtype=float32, numpy=\n",
              "array([[1., 1., 1., 1., 1., 1.],\n",
              "       [1., 1., 1., 1., 1., 1.],\n",
              "       [1., 1., 1., 1., 1., 1.],\n",
              "       [1., 1., 1., 1., 1., 1.],\n",
              "       [1., 1., 1., 1., 1., 1.]], dtype=float32)>"
            ]
          },
          "metadata": {},
          "execution_count": 44
        }
      ]
    },
    {
      "cell_type": "code",
      "source": [
        "tensor_ones = tf.ones(shape = (5,6), dtype = tf.float64)\n",
        "tensor_ones"
      ],
      "metadata": {
        "colab": {
          "base_uri": "https://localhost:8080/"
        },
        "id": "iT196a1joyL3",
        "outputId": "c63f3dad-7fb8-47ee-c898-4f57d3e94d18"
      },
      "execution_count": 45,
      "outputs": [
        {
          "output_type": "execute_result",
          "data": {
            "text/plain": [
              "<tf.Tensor: shape=(5, 6), dtype=float64, numpy=\n",
              "array([[1., 1., 1., 1., 1., 1.],\n",
              "       [1., 1., 1., 1., 1., 1.],\n",
              "       [1., 1., 1., 1., 1., 1.],\n",
              "       [1., 1., 1., 1., 1., 1.],\n",
              "       [1., 1., 1., 1., 1., 1.]])>"
            ]
          },
          "metadata": {},
          "execution_count": 45
        }
      ]
    },
    {
      "cell_type": "markdown",
      "source": [
        "**Numpy to Tensorflow**\n",
        "\n",
        "`Convert Numpy to TensorFlow https://www.tensorflow.org/api_docs/python/tf/convert_to_tensor`\n",
        "\n"
      ],
      "metadata": {
        "id": "8vCu409cpDoX"
      }
    },
    {
      "cell_type": "code",
      "source": [
        "# This is not array values generated By tensorflow:\n",
        "\n",
        "import numpy as np\n",
        "numpy_A = np.arange(1, 25, dtype=np.int32) # create a NumPy array between 1 and 25\n",
        "A = tf.constant(numpy_A,  \n",
        "                shape=[2, 4, 3]) # note: the shape total (2*4*3) has to match the number of elements in the array\n",
        "numpy_A, A"
      ],
      "metadata": {
        "colab": {
          "base_uri": "https://localhost:8080/"
        },
        "id": "_3WW809ao1E9",
        "outputId": "db3adc9e-6148-4435-e41f-5c053b403e44"
      },
      "execution_count": 46,
      "outputs": [
        {
          "output_type": "execute_result",
          "data": {
            "text/plain": [
              "(array([ 1,  2,  3,  4,  5,  6,  7,  8,  9, 10, 11, 12, 13, 14, 15, 16, 17,\n",
              "        18, 19, 20, 21, 22, 23, 24], dtype=int32),\n",
              " <tf.Tensor: shape=(2, 4, 3), dtype=int32, numpy=\n",
              " array([[[ 1,  2,  3],\n",
              "         [ 4,  5,  6],\n",
              "         [ 7,  8,  9],\n",
              "         [10, 11, 12]],\n",
              " \n",
              "        [[13, 14, 15],\n",
              "         [16, 17, 18],\n",
              "         [19, 20, 21],\n",
              "         [22, 23, 24]]], dtype=int32)>)"
            ]
          },
          "metadata": {},
          "execution_count": 46
        }
      ]
    },
    {
      "cell_type": "code",
      "source": [
        "A[1][1][1]"
      ],
      "metadata": {
        "colab": {
          "base_uri": "https://localhost:8080/"
        },
        "id": "drwqKW2ppeyb",
        "outputId": "4c429139-79fc-4bf1-d15b-96a9a7632b7e"
      },
      "execution_count": 47,
      "outputs": [
        {
          "output_type": "execute_result",
          "data": {
            "text/plain": [
              "<tf.Tensor: shape=(), dtype=int32, numpy=17>"
            ]
          },
          "metadata": {},
          "execution_count": 47
        }
      ]
    },
    {
      "cell_type": "code",
      "source": [
        "numpy_to_tensor = np.array([[1,2,3] , [10,11,12]],dtype= np.float64)\n",
        "print(numpy_to_tensor)\n",
        "print(type(numpy_to_tensor))"
      ],
      "metadata": {
        "colab": {
          "base_uri": "https://localhost:8080/"
        },
        "id": "SNdFNHwFpguP",
        "outputId": "9e958c83-c18b-4a19-86c0-2f7940d48b03"
      },
      "execution_count": 48,
      "outputs": [
        {
          "output_type": "stream",
          "name": "stdout",
          "text": [
            "[[ 1.  2.  3.]\n",
            " [10. 11. 12.]]\n",
            "<class 'numpy.ndarray'>\n"
          ]
        }
      ]
    },
    {
      "cell_type": "code",
      "source": [
        "numpy_to_tensor = tf.convert_to_tensor(numpy_to_tensor)\n",
        "print(numpy_to_tensor)\n",
        "print(type(numpy_to_tensor))"
      ],
      "metadata": {
        "colab": {
          "base_uri": "https://localhost:8080/"
        },
        "id": "ka9nVkUzqX5k",
        "outputId": "b34f1fd1-f3b4-41b6-aa2c-9840c9c5c866"
      },
      "execution_count": 49,
      "outputs": [
        {
          "output_type": "stream",
          "name": "stdout",
          "text": [
            "tf.Tensor(\n",
            "[[ 1.  2.  3.]\n",
            " [10. 11. 12.]], shape=(2, 3), dtype=float64)\n",
            "<class 'tensorflow.python.framework.ops.EagerTensor'>\n"
          ]
        }
      ]
    },
    {
      "cell_type": "markdown",
      "source": [
        "**TensorFlow to Numpy**\n",
        "\n",
        "\n"
      ],
      "metadata": {
        "id": "jeK1rwilqxdx"
      }
    },
    {
      "cell_type": "code",
      "source": [
        "tensor_to_numpy = tf.constant([[1,2,3], [10,11,12]],dtype = tf.float64)\n",
        "tensor_to_numpy"
      ],
      "metadata": {
        "colab": {
          "base_uri": "https://localhost:8080/"
        },
        "id": "24sj1w4aqtLE",
        "outputId": "5a2673ed-564b-43a2-8c46-8c0e3ee64334"
      },
      "execution_count": 50,
      "outputs": [
        {
          "output_type": "execute_result",
          "data": {
            "text/plain": [
              "<tf.Tensor: shape=(2, 3), dtype=float64, numpy=\n",
              "array([[ 1.,  2.,  3.],\n",
              "       [10., 11., 12.]])>"
            ]
          },
          "metadata": {},
          "execution_count": 50
        }
      ]
    },
    {
      "cell_type": "code",
      "source": [
        "t_n = tf.make_tensor_proto(tensor_to_numpy)\n",
        "t_n = tf.make_ndarray(t_n)\n",
        "print(t_n)"
      ],
      "metadata": {
        "colab": {
          "base_uri": "https://localhost:8080/"
        },
        "id": "zuIWaY0trXBh",
        "outputId": "a33c3f36-9ccc-49b3-fee6-6c1a72fceae1"
      },
      "execution_count": 51,
      "outputs": [
        {
          "output_type": "stream",
          "name": "stdout",
          "text": [
            "[[ 1.  2.  3.]\n",
            " [10. 11. 12.]]\n"
          ]
        }
      ]
    },
    {
      "cell_type": "code",
      "source": [
        "print(type(t_n))"
      ],
      "metadata": {
        "colab": {
          "base_uri": "https://localhost:8080/"
        },
        "id": "3qiw6VhHrs3v",
        "outputId": "11c6a9c0-a214-45f0-d745-40eb523b3add"
      },
      "execution_count": 52,
      "outputs": [
        {
          "output_type": "stream",
          "name": "stdout",
          "text": [
            "<class 'numpy.ndarray'>\n"
          ]
        }
      ]
    },
    {
      "cell_type": "markdown",
      "source": [
        "**second way**"
      ],
      "metadata": {
        "id": "xsIERHLggSfv"
      }
    },
    {
      "cell_type": "code",
      "source": [
        "tensor_to_numpy = tf.constant([[1,2,3], [10,11,12]],dtype = tf.float64)\n",
        "tensor_to_numpy = np.array(tensor_to_numpy)\n",
        "tensor_to_numpy"
      ],
      "metadata": {
        "colab": {
          "base_uri": "https://localhost:8080/"
        },
        "id": "uIyWC4JUf4Nk",
        "outputId": "43c42b79-fe34-4c17-832c-05d40b041d93"
      },
      "execution_count": 107,
      "outputs": [
        {
          "output_type": "execute_result",
          "data": {
            "text/plain": [
              "array([[ 1.,  2.,  3.],\n",
              "       [10., 11., 12.]])"
            ]
          },
          "metadata": {},
          "execution_count": 107
        }
      ]
    },
    {
      "cell_type": "code",
      "source": [
        "type(tensor_to_numpy)"
      ],
      "metadata": {
        "colab": {
          "base_uri": "https://localhost:8080/"
        },
        "id": "QtFVH7i_gEej",
        "outputId": "bbbe3a56-0605-401d-e945-469f7f4a914a"
      },
      "execution_count": 108,
      "outputs": [
        {
          "output_type": "execute_result",
          "data": {
            "text/plain": [
              "numpy.ndarray"
            ]
          },
          "metadata": {},
          "execution_count": 108
        }
      ]
    },
    {
      "cell_type": "markdown",
      "source": [
        "**third_way**"
      ],
      "metadata": {
        "id": "6SwfypVqgW7f"
      }
    },
    {
      "cell_type": "code",
      "source": [
        "tensor_to_numpy = tf.constant([[1,2,3], [10,11,12]],dtype = tf.float64)\n",
        "tensor_to_numpy = tensor_to_numpy.numpy()\n",
        "tensor_to_numpy"
      ],
      "metadata": {
        "colab": {
          "base_uri": "https://localhost:8080/"
        },
        "id": "6nVo2VWqgUuo",
        "outputId": "debf8416-3b99-4589-9df6-de790b4a2cc8"
      },
      "execution_count": 109,
      "outputs": [
        {
          "output_type": "execute_result",
          "data": {
            "text/plain": [
              "array([[ 1.,  2.,  3.],\n",
              "       [10., 11., 12.]])"
            ]
          },
          "metadata": {},
          "execution_count": 109
        }
      ]
    },
    {
      "cell_type": "code",
      "source": [
        "type(tensor_to_numpy)"
      ],
      "metadata": {
        "colab": {
          "base_uri": "https://localhost:8080/"
        },
        "id": "2Ex-PZPfgd03",
        "outputId": "6cd1ff1f-ff0a-40a3-b905-2fd96bf389ec"
      },
      "execution_count": 110,
      "outputs": [
        {
          "output_type": "execute_result",
          "data": {
            "text/plain": [
              "numpy.ndarray"
            ]
          },
          "metadata": {},
          "execution_count": 110
        }
      ]
    },
    {
      "cell_type": "markdown",
      "source": [
        "**convert GPU Created Tensors into Numpy**\n",
        "\n"
      ],
      "metadata": {
        "id": "_F2e7pVehaUl"
      }
    },
    {
      "cell_type": "code",
      "source": [
        "import tensorflow as tf\n",
        "import tensorflow.compat.v1 as tf\n",
        "import numpy as np\n",
        "\n",
        "# create a tensor on GPU\n",
        "with tf.device('/gpu:0'):\n",
        "    tensor = tf.ones((3, 3))\n",
        "print(type(tensor))\n",
        "# convert tensor to numpy\n",
        "with tf.Session() as sess:\n",
        "    np_array = tensor.numpy()\n",
        "\n",
        "print(np_array)\n",
        "print(type(np_array))"
      ],
      "metadata": {
        "colab": {
          "base_uri": "https://localhost:8080/"
        },
        "id": "Z7Brr4Z9gkxq",
        "outputId": "93316eb2-4361-4fb3-b894-68929b2b838e"
      },
      "execution_count": 12,
      "outputs": [
        {
          "output_type": "stream",
          "name": "stdout",
          "text": [
            "<class 'tensorflow.python.framework.ops.EagerTensor'>\n",
            "[[1. 1. 1.]\n",
            " [1. 1. 1.]\n",
            " [1. 1. 1.]]\n",
            "<class 'numpy.ndarray'>\n"
          ]
        }
      ]
    },
    {
      "cell_type": "markdown",
      "source": [
        "**Information About Tensors After creation**\n",
        "\n",
        "`Shape:` The length (number of elements) of each of the dimensions of a tensor.\n",
        "\n",
        "`Rank:` The number of tensor dimensions. A scalar has rank 0, a vector has rank 1, a matrix is rank 2, a tensor has rank n.\n",
        "\n",
        "`Axis or Dimension:` A particular dimension of a tensor.\n",
        "\n",
        "`Size:` The total number of items in the tensor."
      ],
      "metadata": {
        "id": "OgNcvleZtjgd"
      }
    },
    {
      "cell_type": "code",
      "source": [
        "rank_4_tensor = tf.ones([3, 4, 5])\n",
        "rank_4_tensor"
      ],
      "metadata": {
        "colab": {
          "base_uri": "https://localhost:8080/"
        },
        "id": "FTvWiBqkrveo",
        "outputId": "0e8bfa0c-30ac-4903-a7f2-970afcbce66b"
      },
      "execution_count": 53,
      "outputs": [
        {
          "output_type": "execute_result",
          "data": {
            "text/plain": [
              "<tf.Tensor: shape=(3, 4, 5), dtype=float32, numpy=\n",
              "array([[[1., 1., 1., 1., 1.],\n",
              "        [1., 1., 1., 1., 1.],\n",
              "        [1., 1., 1., 1., 1.],\n",
              "        [1., 1., 1., 1., 1.]],\n",
              "\n",
              "       [[1., 1., 1., 1., 1.],\n",
              "        [1., 1., 1., 1., 1.],\n",
              "        [1., 1., 1., 1., 1.],\n",
              "        [1., 1., 1., 1., 1.]],\n",
              "\n",
              "       [[1., 1., 1., 1., 1.],\n",
              "        [1., 1., 1., 1., 1.],\n",
              "        [1., 1., 1., 1., 1.],\n",
              "        [1., 1., 1., 1., 1.]]], dtype=float32)>"
            ]
          },
          "metadata": {},
          "execution_count": 53
        }
      ]
    },
    {
      "cell_type": "code",
      "source": [
        "rank_4_tensor.shape , rank_4_tensor.ndim , tf.size(rank_4_tensor).numpy()"
      ],
      "metadata": {
        "colab": {
          "base_uri": "https://localhost:8080/"
        },
        "id": "0KPiF3D2uC08",
        "outputId": "bcfa5f22-969a-4be6-c557-f3e157cbe130"
      },
      "execution_count": 54,
      "outputs": [
        {
          "output_type": "execute_result",
          "data": {
            "text/plain": [
              "(TensorShape([3, 4, 5]), 3, 60)"
            ]
          },
          "metadata": {},
          "execution_count": 54
        }
      ]
    },
    {
      "cell_type": "markdown",
      "source": [
        "**TensorFlow Expand Dimensions**\n",
        "\n",
        "`using Expand_dims we can create inner dims , outer dims very easily https://www.tensorflow.org/api_docs/python/tf/expand_dims`"
      ],
      "metadata": {
        "id": "rgY-ghPVu2H2"
      }
    },
    {
      "cell_type": "code",
      "source": [
        "rank_2_tensor = tf.constant([[10, 7],\n",
        "                             [3, 4]])\n"
      ],
      "metadata": {
        "id": "KpuM9DNCuFwV"
      },
      "execution_count": 55,
      "outputs": []
    },
    {
      "cell_type": "code",
      "source": [
        "rank_2_tensor"
      ],
      "metadata": {
        "colab": {
          "base_uri": "https://localhost:8080/"
        },
        "id": "QZ6PYdDVwIO4",
        "outputId": "8e29db55-2140-49eb-b4f8-4da0e2c0f1a7"
      },
      "execution_count": 56,
      "outputs": [
        {
          "output_type": "execute_result",
          "data": {
            "text/plain": [
              "<tf.Tensor: shape=(2, 2), dtype=int32, numpy=\n",
              "array([[10,  7],\n",
              "       [ 3,  4]], dtype=int32)>"
            ]
          },
          "metadata": {},
          "execution_count": 56
        }
      ]
    },
    {
      "cell_type": "code",
      "source": [
        "tf.expand_dims(rank_2_tensor, axis=-1) # \"-1\" means last axis"
      ],
      "metadata": {
        "colab": {
          "base_uri": "https://localhost:8080/"
        },
        "id": "828sEybKwKbX",
        "outputId": "2534d380-5d2c-430b-918b-2ec13c2b8e72"
      },
      "execution_count": 57,
      "outputs": [
        {
          "output_type": "execute_result",
          "data": {
            "text/plain": [
              "<tf.Tensor: shape=(2, 2, 1), dtype=int32, numpy=\n",
              "array([[[10],\n",
              "        [ 7]],\n",
              "\n",
              "       [[ 3],\n",
              "        [ 4]]], dtype=int32)>"
            ]
          },
          "metadata": {},
          "execution_count": 57
        }
      ]
    },
    {
      "cell_type": "code",
      "source": [
        "tf.expand_dims(rank_2_tensor, axis=1) # \"1\" means middle axis"
      ],
      "metadata": {
        "colab": {
          "base_uri": "https://localhost:8080/"
        },
        "id": "qCiQ5nYPwWds",
        "outputId": "19911c48-51a2-44be-8d23-ab338bb6f4d1"
      },
      "execution_count": 58,
      "outputs": [
        {
          "output_type": "execute_result",
          "data": {
            "text/plain": [
              "<tf.Tensor: shape=(2, 1, 2), dtype=int32, numpy=\n",
              "array([[[10,  7]],\n",
              "\n",
              "       [[ 3,  4]]], dtype=int32)>"
            ]
          },
          "metadata": {},
          "execution_count": 58
        }
      ]
    },
    {
      "cell_type": "code",
      "source": [
        "tf.expand_dims(rank_2_tensor, axis=0) # \"0\" means beginging axis"
      ],
      "metadata": {
        "colab": {
          "base_uri": "https://localhost:8080/"
        },
        "id": "eFGH-xHtwa1j",
        "outputId": "8f0d566d-151e-4162-f344-98a6a436d2df"
      },
      "execution_count": 59,
      "outputs": [
        {
          "output_type": "execute_result",
          "data": {
            "text/plain": [
              "<tf.Tensor: shape=(1, 2, 2), dtype=int32, numpy=\n",
              "array([[[10,  7],\n",
              "        [ 3,  4]]], dtype=int32)>"
            ]
          },
          "metadata": {},
          "execution_count": 59
        }
      ]
    },
    {
      "cell_type": "code",
      "source": [
        "# For 3d data:\n",
        "\n",
        "rank_2_tensor = tf.constant([[[10, 7,1],[3, 4,10] , [11,21,22]]])\n",
        "rank_2_tensor"
      ],
      "metadata": {
        "colab": {
          "base_uri": "https://localhost:8080/"
        },
        "id": "2FYqHbiTwhqV",
        "outputId": "9239c0b6-0c56-481f-b889-443d1a587428"
      },
      "execution_count": 60,
      "outputs": [
        {
          "output_type": "execute_result",
          "data": {
            "text/plain": [
              "<tf.Tensor: shape=(1, 3, 3), dtype=int32, numpy=\n",
              "array([[[10,  7,  1],\n",
              "        [ 3,  4, 10],\n",
              "        [11, 21, 22]]], dtype=int32)>"
            ]
          },
          "metadata": {},
          "execution_count": 60
        }
      ]
    },
    {
      "cell_type": "code",
      "source": [
        "tf.expand_dims(rank_2_tensor, axis=0) # \"0\" means beginging axis"
      ],
      "metadata": {
        "colab": {
          "base_uri": "https://localhost:8080/"
        },
        "id": "qDyR8XAqwsYI",
        "outputId": "c4c0bcdd-ae54-4890-f6d2-127a565bc3a1"
      },
      "execution_count": 61,
      "outputs": [
        {
          "output_type": "execute_result",
          "data": {
            "text/plain": [
              "<tf.Tensor: shape=(1, 1, 3, 3), dtype=int32, numpy=\n",
              "array([[[[10,  7,  1],\n",
              "         [ 3,  4, 10],\n",
              "         [11, 21, 22]]]], dtype=int32)>"
            ]
          },
          "metadata": {},
          "execution_count": 61
        }
      ]
    },
    {
      "cell_type": "code",
      "source": [
        "tf.expand_dims(rank_2_tensor, axis=1) # \"1\" means Middle axis"
      ],
      "metadata": {
        "colab": {
          "base_uri": "https://localhost:8080/"
        },
        "id": "yoA-jtPZw6gL",
        "outputId": "eec47409-44a7-42b8-cc34-33ccf926510c"
      },
      "execution_count": 62,
      "outputs": [
        {
          "output_type": "execute_result",
          "data": {
            "text/plain": [
              "<tf.Tensor: shape=(1, 1, 3, 3), dtype=int32, numpy=\n",
              "array([[[[10,  7,  1],\n",
              "         [ 3,  4, 10],\n",
              "         [11, 21, 22]]]], dtype=int32)>"
            ]
          },
          "metadata": {},
          "execution_count": 62
        }
      ]
    },
    {
      "cell_type": "code",
      "source": [
        "tf.expand_dims(rank_2_tensor, axis=-1) # \"-1\" means end axis"
      ],
      "metadata": {
        "colab": {
          "base_uri": "https://localhost:8080/"
        },
        "id": "1oz0zyWMw7VU",
        "outputId": "8ed251d1-4b88-4ce7-e143-8aaeca70bd35"
      },
      "execution_count": 63,
      "outputs": [
        {
          "output_type": "execute_result",
          "data": {
            "text/plain": [
              "<tf.Tensor: shape=(1, 3, 3, 1), dtype=int32, numpy=\n",
              "array([[[[10],\n",
              "         [ 7],\n",
              "         [ 1]],\n",
              "\n",
              "        [[ 3],\n",
              "         [ 4],\n",
              "         [10]],\n",
              "\n",
              "        [[11],\n",
              "         [21],\n",
              "         [22]]]], dtype=int32)>"
            ]
          },
          "metadata": {},
          "execution_count": 63
        }
      ]
    },
    {
      "cell_type": "markdown",
      "source": [
        "**Basic Math Operations**\n",
        "\n",
        "`official Documentation : https://www.tensorflow.org/api_docs/python/tf/math/`\n",
        "\n",
        "- Addition \n",
        "- Subtraction \n",
        "- Multiplication \n",
        "- Division \n",
        "- MatMul"
      ],
      "metadata": {
        "id": "k68otY0txLYe"
      }
    },
    {
      "cell_type": "code",
      "source": [
        "tensor = tf.constant([[10, 7], [3, 4]])\n",
        "tensor + 10"
      ],
      "metadata": {
        "colab": {
          "base_uri": "https://localhost:8080/"
        },
        "id": "EimVs5a6w-1P",
        "outputId": "1ecae3fd-4dc2-4845-c043-826d532a94b9"
      },
      "execution_count": 64,
      "outputs": [
        {
          "output_type": "execute_result",
          "data": {
            "text/plain": [
              "<tf.Tensor: shape=(2, 2), dtype=int32, numpy=\n",
              "array([[20, 17],\n",
              "       [13, 14]], dtype=int32)>"
            ]
          },
          "metadata": {},
          "execution_count": 64
        }
      ]
    },
    {
      "cell_type": "code",
      "source": [
        "tensor = tf.constant([[10, 7], [3, 4]])\n",
        "tf.add(tensor , 10)"
      ],
      "metadata": {
        "colab": {
          "base_uri": "https://localhost:8080/"
        },
        "id": "5o-zZmMkxbnk",
        "outputId": "e472f01e-6427-4b07-d18b-70125a3edd71"
      },
      "execution_count": 65,
      "outputs": [
        {
          "output_type": "execute_result",
          "data": {
            "text/plain": [
              "<tf.Tensor: shape=(2, 2), dtype=int32, numpy=\n",
              "array([[20, 17],\n",
              "       [13, 14]], dtype=int32)>"
            ]
          },
          "metadata": {},
          "execution_count": 65
        }
      ]
    },
    {
      "cell_type": "code",
      "source": [
        "tensor = tf.constant([[10, 7], [3, 4]])\n",
        "tf.subtract(10 , tensor)"
      ],
      "metadata": {
        "colab": {
          "base_uri": "https://localhost:8080/"
        },
        "id": "Xr8tvc_Sxhxf",
        "outputId": "19bdf946-eed5-498e-e544-14e7c384e82f"
      },
      "execution_count": 66,
      "outputs": [
        {
          "output_type": "execute_result",
          "data": {
            "text/plain": [
              "<tf.Tensor: shape=(2, 2), dtype=int32, numpy=\n",
              "array([[0, 3],\n",
              "       [7, 6]], dtype=int32)>"
            ]
          },
          "metadata": {},
          "execution_count": 66
        }
      ]
    },
    {
      "cell_type": "code",
      "source": [
        "tensor = tf.constant([[10, 7], [3, 4]])\n",
        "tf.multiply(tensor , 10)"
      ],
      "metadata": {
        "colab": {
          "base_uri": "https://localhost:8080/"
        },
        "id": "h6Fkwjy5x-jn",
        "outputId": "3ea4bd32-308b-4b0e-e4d3-7ffb38335167"
      },
      "execution_count": 67,
      "outputs": [
        {
          "output_type": "execute_result",
          "data": {
            "text/plain": [
              "<tf.Tensor: shape=(2, 2), dtype=int32, numpy=\n",
              "array([[100,  70],\n",
              "       [ 30,  40]], dtype=int32)>"
            ]
          },
          "metadata": {},
          "execution_count": 67
        }
      ]
    },
    {
      "cell_type": "code",
      "source": [
        "tensor = tf.constant([[10, 7], [3, 4]])\n",
        "tf.divide(tensor , 10)"
      ],
      "metadata": {
        "colab": {
          "base_uri": "https://localhost:8080/"
        },
        "id": "femDhYC-yV8r",
        "outputId": "38921ab9-b3d1-42a7-c5c0-7aa20bf5d20f"
      },
      "execution_count": 68,
      "outputs": [
        {
          "output_type": "execute_result",
          "data": {
            "text/plain": [
              "<tf.Tensor: shape=(2, 2), dtype=float64, numpy=\n",
              "array([[1. , 0.7],\n",
              "       [0.3, 0.4]])>"
            ]
          },
          "metadata": {},
          "execution_count": 68
        }
      ]
    },
    {
      "cell_type": "code",
      "source": [
        "# matmul \n",
        "\n",
        "tensor_1 = tf.constant([[5,0,3], [3,7,9] , [3,5,2]] , dtype = tf.float64)\n",
        "print(tensor_1)  # 3 * 3 matrix \n",
        "print(tensor_1.shape)\n",
        "tensor_2 = tf.constant([[4,7], [6,8] , [8,1]] , dtype = tf.float64)\n",
        "print(tensor_2)\n",
        "print(tensor_2.shape)\n",
        "\n",
        "# apply matmul \n",
        "\n",
        "result = tf.matmul(tensor_1 , tensor_2)"
      ],
      "metadata": {
        "colab": {
          "base_uri": "https://localhost:8080/"
        },
        "id": "GOf87kLrzVfl",
        "outputId": "65989150-6f9e-4f72-c9f7-3ef4c0a9d410"
      },
      "execution_count": 69,
      "outputs": [
        {
          "output_type": "stream",
          "name": "stdout",
          "text": [
            "tf.Tensor(\n",
            "[[5. 0. 3.]\n",
            " [3. 7. 9.]\n",
            " [3. 5. 2.]], shape=(3, 3), dtype=float64)\n",
            "(3, 3)\n",
            "tf.Tensor(\n",
            "[[4. 7.]\n",
            " [6. 8.]\n",
            " [8. 1.]], shape=(3, 2), dtype=float64)\n",
            "(3, 2)\n"
          ]
        }
      ]
    },
    {
      "cell_type": "code",
      "source": [
        "print(result)"
      ],
      "metadata": {
        "colab": {
          "base_uri": "https://localhost:8080/"
        },
        "id": "aSyl53L4ydbt",
        "outputId": "d014184a-12d7-41a6-cb7d-bcd5b25a75c0"
      },
      "execution_count": 70,
      "outputs": [
        {
          "output_type": "stream",
          "name": "stdout",
          "text": [
            "tf.Tensor(\n",
            "[[ 44.  38.]\n",
            " [126.  86.]\n",
            " [ 58.  63.]], shape=(3, 2), dtype=float64)\n"
          ]
        }
      ]
    },
    {
      "cell_type": "markdown",
      "source": [
        "**reshape and transpose**\n",
        "\n",
        "- `reshape : https://www.tensorflow.org/api_docs/python/tf/reshape`\n",
        "\n",
        "- `Transpose : https://www.tensorflow.org/api_docs/python/tf/transpose`"
      ],
      "metadata": {
        "id": "GK8sLA3n4Tmv"
      }
    },
    {
      "cell_type": "code",
      "source": [
        "reshape_tensor = tf.constant([[5,0,3 , 1], [3,7,9,9] , [3,5,2,8]] , dtype = tf.float64)\n",
        "reshape_tensor"
      ],
      "metadata": {
        "colab": {
          "base_uri": "https://localhost:8080/"
        },
        "id": "cLiEVM_X0aS7",
        "outputId": "3dacd666-3bd0-438a-e672-c344dfb166fc"
      },
      "execution_count": 71,
      "outputs": [
        {
          "output_type": "execute_result",
          "data": {
            "text/plain": [
              "<tf.Tensor: shape=(3, 4), dtype=float64, numpy=\n",
              "array([[5., 0., 3., 1.],\n",
              "       [3., 7., 9., 9.],\n",
              "       [3., 5., 2., 8.]])>"
            ]
          },
          "metadata": {},
          "execution_count": 71
        }
      ]
    },
    {
      "cell_type": "code",
      "source": [
        "tf.reshape(reshape_tensor, [6,2])\n"
      ],
      "metadata": {
        "colab": {
          "base_uri": "https://localhost:8080/"
        },
        "id": "Sh_Jm2d04zv6",
        "outputId": "06b6709b-a1aa-42ab-e043-004677ab76f2"
      },
      "execution_count": 72,
      "outputs": [
        {
          "output_type": "execute_result",
          "data": {
            "text/plain": [
              "<tf.Tensor: shape=(6, 2), dtype=float64, numpy=\n",
              "array([[5., 0.],\n",
              "       [3., 1.],\n",
              "       [3., 7.],\n",
              "       [9., 9.],\n",
              "       [3., 5.],\n",
              "       [2., 8.]])>"
            ]
          },
          "metadata": {},
          "execution_count": 72
        }
      ]
    },
    {
      "cell_type": "code",
      "source": [
        "tf.reshape(reshape_tensor, [3,2,2])\n"
      ],
      "metadata": {
        "colab": {
          "base_uri": "https://localhost:8080/"
        },
        "id": "324cNr2J5F0H",
        "outputId": "81601d35-2695-4712-f12b-bbe6a80f61dd"
      },
      "execution_count": 73,
      "outputs": [
        {
          "output_type": "execute_result",
          "data": {
            "text/plain": [
              "<tf.Tensor: shape=(3, 2, 2), dtype=float64, numpy=\n",
              "array([[[5., 0.],\n",
              "        [3., 1.]],\n",
              "\n",
              "       [[3., 7.],\n",
              "        [9., 9.]],\n",
              "\n",
              "       [[3., 5.],\n",
              "        [2., 8.]]])>"
            ]
          },
          "metadata": {},
          "execution_count": 73
        }
      ]
    },
    {
      "cell_type": "code",
      "source": [
        "transpose_tensor = tf.constant([[5,0,3 , 1], [3,7,9,9] , [3,5,2,8]] , dtype = tf.float64)\n",
        "transpose_tensor"
      ],
      "metadata": {
        "colab": {
          "base_uri": "https://localhost:8080/"
        },
        "id": "WNOilLHj5PlS",
        "outputId": "dcaf2766-47a2-4b26-d06c-ca8f83026d3d"
      },
      "execution_count": 74,
      "outputs": [
        {
          "output_type": "execute_result",
          "data": {
            "text/plain": [
              "<tf.Tensor: shape=(3, 4), dtype=float64, numpy=\n",
              "array([[5., 0., 3., 1.],\n",
              "       [3., 7., 9., 9.],\n",
              "       [3., 5., 2., 8.]])>"
            ]
          },
          "metadata": {},
          "execution_count": 74
        }
      ]
    },
    {
      "cell_type": "code",
      "source": [
        "# transpose \n",
        "\n",
        "# Create a 2D tensor\n",
        "tensor = tf.constant([[1, 2, 3], [4, 5, 6] , [10,11,12]])\n",
        "\n",
        "# Perform transpose operation\n",
        "transposed_tensor = tf.transpose(tensor)\n",
        "\n",
        "# Display the result\n",
        "print(\"Original tensor:\\n\", tensor.numpy())\n",
        "print(\"Transposed tensor:\\n\", transposed_tensor)\n"
      ],
      "metadata": {
        "colab": {
          "base_uri": "https://localhost:8080/"
        },
        "id": "Yt2hD4ld5VB_",
        "outputId": "12171010-9590-4581-a959-300877db4998"
      },
      "execution_count": 75,
      "outputs": [
        {
          "output_type": "stream",
          "name": "stdout",
          "text": [
            "Original tensor:\n",
            " [[ 1  2  3]\n",
            " [ 4  5  6]\n",
            " [10 11 12]]\n",
            "Transposed tensor:\n",
            " tf.Tensor(\n",
            "[[ 1  4 10]\n",
            " [ 2  5 11]\n",
            " [ 3  6 12]], shape=(3, 3), dtype=int32)\n"
          ]
        }
      ]
    },
    {
      "cell_type": "markdown",
      "source": [
        "**Changing Datatypes**\n",
        "\n",
        "- `using cast we can change data type : https://www.tensorflow.org/api_docs/python/tf/cast`"
      ],
      "metadata": {
        "id": "XRhiralG9uFA"
      }
    },
    {
      "cell_type": "code",
      "source": [
        "tensor = tf.constant([[1, 2, 3], [4, 5, 6] , [10,11,12]] , dtype = tf.float64)\n",
        "tensor\n"
      ],
      "metadata": {
        "id": "p6kb7u6r7dfV",
        "colab": {
          "base_uri": "https://localhost:8080/"
        },
        "outputId": "499b44c4-2c31-4900-860b-63a186794577"
      },
      "execution_count": 76,
      "outputs": [
        {
          "output_type": "execute_result",
          "data": {
            "text/plain": [
              "<tf.Tensor: shape=(3, 3), dtype=float64, numpy=\n",
              "array([[ 1.,  2.,  3.],\n",
              "       [ 4.,  5.,  6.],\n",
              "       [10., 11., 12.]])>"
            ]
          },
          "metadata": {},
          "execution_count": 76
        }
      ]
    },
    {
      "cell_type": "code",
      "source": [
        "tf.cast(tensor , tf.float32)\n"
      ],
      "metadata": {
        "colab": {
          "base_uri": "https://localhost:8080/"
        },
        "id": "xOhZfL08VbFc",
        "outputId": "be2075ee-6281-4487-bcfb-91327c1ae414"
      },
      "execution_count": 77,
      "outputs": [
        {
          "output_type": "execute_result",
          "data": {
            "text/plain": [
              "<tf.Tensor: shape=(3, 3), dtype=float32, numpy=\n",
              "array([[ 1.,  2.,  3.],\n",
              "       [ 4.,  5.,  6.],\n",
              "       [10., 11., 12.]], dtype=float32)>"
            ]
          },
          "metadata": {},
          "execution_count": 77
        }
      ]
    },
    {
      "cell_type": "code",
      "source": [
        "tf.cast(tensor, tf.int32)"
      ],
      "metadata": {
        "colab": {
          "base_uri": "https://localhost:8080/"
        },
        "id": "rFGM09qYVoDN",
        "outputId": "5d6da8d1-3453-4a70-d5c2-e95ceba3653f"
      },
      "execution_count": 78,
      "outputs": [
        {
          "output_type": "execute_result",
          "data": {
            "text/plain": [
              "<tf.Tensor: shape=(3, 3), dtype=int32, numpy=\n",
              "array([[ 1,  2,  3],\n",
              "       [ 4,  5,  6],\n",
              "       [10, 11, 12]], dtype=int32)>"
            ]
          },
          "metadata": {},
          "execution_count": 78
        }
      ]
    },
    {
      "cell_type": "markdown",
      "source": [
        "**Getting Absolute Value**\n",
        "\n"
      ],
      "metadata": {
        "id": "1HH07YU_V53o"
      }
    },
    {
      "cell_type": "code",
      "source": [
        "value = tf.constant([-100 , 100])\n",
        "\n",
        "tf.abs(value)"
      ],
      "metadata": {
        "colab": {
          "base_uri": "https://localhost:8080/"
        },
        "id": "txYHZujTVuXd",
        "outputId": "6ef05a15-0282-4124-aa16-57222fb253a5"
      },
      "execution_count": 79,
      "outputs": [
        {
          "output_type": "execute_result",
          "data": {
            "text/plain": [
              "<tf.Tensor: shape=(2,), dtype=int32, numpy=array([100, 100], dtype=int32)>"
            ]
          },
          "metadata": {},
          "execution_count": 79
        }
      ]
    },
    {
      "cell_type": "markdown",
      "source": [
        "**Finding Min , Max , Mean ,Sum in a tensor**\n",
        "\n",
        "- `tf.reduce_min()` - find the minimum value in a tensor.\n",
        "- `tf.reduce_max()` - find the maximum value in a tensor (helpful for when you want to find the highest prediction probability).\n",
        "- `tf.reduce_mean()` - find the mean of all elements in a tensor.\n",
        "- `tf.reduce_sum()` - find the sum of all elements in a tensor.\n",
        "\n",
        "`Note`: typically, each of these is under the math module, e.g. tf.math.reduce_min() but you can use the alias tf.reduce_min()."
      ],
      "metadata": {
        "id": "xIPTSjzEWNtH"
      }
    },
    {
      "cell_type": "code",
      "source": [
        "values = tf.constant([[1,2,3] , [10,11,12]])\n",
        "values "
      ],
      "metadata": {
        "colab": {
          "base_uri": "https://localhost:8080/"
        },
        "id": "WzvmwAu-WExj",
        "outputId": "a2d0c5d7-c9e4-4d6a-a843-978eace6cee3"
      },
      "execution_count": 80,
      "outputs": [
        {
          "output_type": "execute_result",
          "data": {
            "text/plain": [
              "<tf.Tensor: shape=(2, 3), dtype=int32, numpy=\n",
              "array([[ 1,  2,  3],\n",
              "       [10, 11, 12]], dtype=int32)>"
            ]
          },
          "metadata": {},
          "execution_count": 80
        }
      ]
    },
    {
      "cell_type": "code",
      "source": [
        "tf.reduce_min(values , axis = 1)"
      ],
      "metadata": {
        "colab": {
          "base_uri": "https://localhost:8080/"
        },
        "id": "SZlFAizkWs2m",
        "outputId": "1a46f611-71f0-4343-bbcb-2adff2a570b6"
      },
      "execution_count": 81,
      "outputs": [
        {
          "output_type": "execute_result",
          "data": {
            "text/plain": [
              "<tf.Tensor: shape=(2,), dtype=int32, numpy=array([ 1, 10], dtype=int32)>"
            ]
          },
          "metadata": {},
          "execution_count": 81
        }
      ]
    },
    {
      "cell_type": "code",
      "source": [
        "tf.reduce_min(values , axis = 0)"
      ],
      "metadata": {
        "colab": {
          "base_uri": "https://localhost:8080/"
        },
        "id": "lOtTbOw6W2dZ",
        "outputId": "4c930f90-d79e-4348-d699-68d4b817fd54"
      },
      "execution_count": 82,
      "outputs": [
        {
          "output_type": "execute_result",
          "data": {
            "text/plain": [
              "<tf.Tensor: shape=(3,), dtype=int32, numpy=array([1, 2, 3], dtype=int32)>"
            ]
          },
          "metadata": {},
          "execution_count": 82
        }
      ]
    },
    {
      "cell_type": "code",
      "source": [
        "tf.reduce_max(values , axis = 1)"
      ],
      "metadata": {
        "colab": {
          "base_uri": "https://localhost:8080/"
        },
        "id": "FDZVFtlmW4YH",
        "outputId": "0825315f-a199-4d39-9675-992f8de19771"
      },
      "execution_count": 83,
      "outputs": [
        {
          "output_type": "execute_result",
          "data": {
            "text/plain": [
              "<tf.Tensor: shape=(2,), dtype=int32, numpy=array([ 3, 12], dtype=int32)>"
            ]
          },
          "metadata": {},
          "execution_count": 83
        }
      ]
    },
    {
      "cell_type": "code",
      "source": [
        "tf.reduce_mean(values , axis = 1)"
      ],
      "metadata": {
        "colab": {
          "base_uri": "https://localhost:8080/"
        },
        "id": "gxN8lORFW9ND",
        "outputId": "d86f5859-1af5-4d86-a484-983e642667bc"
      },
      "execution_count": 84,
      "outputs": [
        {
          "output_type": "execute_result",
          "data": {
            "text/plain": [
              "<tf.Tensor: shape=(2,), dtype=int32, numpy=array([ 2, 11], dtype=int32)>"
            ]
          },
          "metadata": {},
          "execution_count": 84
        }
      ]
    },
    {
      "cell_type": "code",
      "source": [
        "tf.reduce_sum(values , axis = 1)"
      ],
      "metadata": {
        "colab": {
          "base_uri": "https://localhost:8080/"
        },
        "id": "yPRzXnpiW-jh",
        "outputId": "c1bb4112-21e9-440a-8610-3901bd57800b"
      },
      "execution_count": 85,
      "outputs": [
        {
          "output_type": "execute_result",
          "data": {
            "text/plain": [
              "<tf.Tensor: shape=(2,), dtype=int32, numpy=array([ 6, 33], dtype=int32)>"
            ]
          },
          "metadata": {},
          "execution_count": 85
        }
      ]
    },
    {
      "cell_type": "code",
      "source": [
        "tf.argmax(values , axis = 1)"
      ],
      "metadata": {
        "colab": {
          "base_uri": "https://localhost:8080/"
        },
        "id": "1JOiSfyzXBPA",
        "outputId": "6eae9218-ee17-4385-dc28-3111d3f82bdc"
      },
      "execution_count": 86,
      "outputs": [
        {
          "output_type": "execute_result",
          "data": {
            "text/plain": [
              "<tf.Tensor: shape=(2,), dtype=int64, numpy=array([2, 2])>"
            ]
          },
          "metadata": {},
          "execution_count": 86
        }
      ]
    },
    {
      "cell_type": "code",
      "source": [
        "tf.argmin(values , axis = 1)"
      ],
      "metadata": {
        "colab": {
          "base_uri": "https://localhost:8080/"
        },
        "id": "Tx4wXXKEXN1C",
        "outputId": "c4e6a55b-6b56-4a63-c54b-2028079affdf"
      },
      "execution_count": 87,
      "outputs": [
        {
          "output_type": "execute_result",
          "data": {
            "text/plain": [
              "<tf.Tensor: shape=(2,), dtype=int64, numpy=array([0, 0])>"
            ]
          },
          "metadata": {},
          "execution_count": 87
        }
      ]
    },
    {
      "cell_type": "markdown",
      "source": [
        "**Squeeze and Unsqueeze**\n",
        "\n",
        "- `Squeeze:` `Removes all the one dims from the given tensor`\n",
        "- `Unsqueze:` `As worked in PyTorch Unsqueeze is not available in tensorflow but use tf.expand_dims because it is same as unsqueeze in PyTorch` `Adds all the one dims from the given tensor`"
      ],
      "metadata": {
        "id": "ei9OFs5EXej6"
      }
    },
    {
      "cell_type": "code",
      "source": [
        "values = tf.constant([1,2,3])\n",
        "values = tf.reshape(values , [1,3])\n",
        "print(values)\n",
        "dims_remove = tf.squeeze(values)\n",
        "print(dims_remove)\n"
      ],
      "metadata": {
        "colab": {
          "base_uri": "https://localhost:8080/"
        },
        "id": "bgt7RHlWXSS3",
        "outputId": "55484ed7-257d-48de-f3db-450a6cd40149"
      },
      "execution_count": 93,
      "outputs": [
        {
          "output_type": "stream",
          "name": "stdout",
          "text": [
            "tf.Tensor([[1 2 3]], shape=(1, 3), dtype=int32)\n",
            "tf.Tensor([1 2 3], shape=(3,), dtype=int32)\n"
          ]
        }
      ]
    },
    {
      "cell_type": "markdown",
      "source": [
        "- `tf.square()` - get the square of every value in a tensor.\n",
        "- `tf.sqrt()` - get the squareroot of every value in a tensor (note: the elements need to be floats or this will error).\n",
        "- `tf.math.log()` - get the natural log of every value in a tensor (elements need to floats)."
      ],
      "metadata": {
        "id": "H6U2Kyw4b3Kh"
      }
    },
    {
      "cell_type": "code",
      "source": [
        "values = tf.constant([[1,2,3] , [10,11,12]] , dtype = tf.float64)\n",
        "\n",
        "values "
      ],
      "metadata": {
        "colab": {
          "base_uri": "https://localhost:8080/"
        },
        "id": "SFrhNY84ZtkB",
        "outputId": "b3b02514-9733-4d73-99bc-55ce0a7c30ec"
      },
      "execution_count": 96,
      "outputs": [
        {
          "output_type": "execute_result",
          "data": {
            "text/plain": [
              "<tf.Tensor: shape=(2, 3), dtype=float64, numpy=\n",
              "array([[ 1.,  2.,  3.],\n",
              "       [10., 11., 12.]])>"
            ]
          },
          "metadata": {},
          "execution_count": 96
        }
      ]
    },
    {
      "cell_type": "code",
      "source": [
        "tf.square(values)"
      ],
      "metadata": {
        "colab": {
          "base_uri": "https://localhost:8080/"
        },
        "id": "Ds_n96NccAEt",
        "outputId": "9707eae2-f0ea-4f2a-ab4d-8e0c14180d26"
      },
      "execution_count": 97,
      "outputs": [
        {
          "output_type": "execute_result",
          "data": {
            "text/plain": [
              "<tf.Tensor: shape=(2, 3), dtype=float64, numpy=\n",
              "array([[  1.,   4.,   9.],\n",
              "       [100., 121., 144.]])>"
            ]
          },
          "metadata": {},
          "execution_count": 97
        }
      ]
    },
    {
      "cell_type": "code",
      "source": [
        "tf.sqrt(values)"
      ],
      "metadata": {
        "colab": {
          "base_uri": "https://localhost:8080/"
        },
        "id": "lkgTSn8KcIpj",
        "outputId": "ba344ae3-bb98-4afe-d431-bffb65431977"
      },
      "execution_count": 98,
      "outputs": [
        {
          "output_type": "execute_result",
          "data": {
            "text/plain": [
              "<tf.Tensor: shape=(2, 3), dtype=float64, numpy=\n",
              "array([[1.        , 1.41421356, 1.73205081],\n",
              "       [3.16227766, 3.31662479, 3.46410162]])>"
            ]
          },
          "metadata": {},
          "execution_count": 98
        }
      ]
    },
    {
      "cell_type": "code",
      "source": [
        "tf.math.log(values)"
      ],
      "metadata": {
        "colab": {
          "base_uri": "https://localhost:8080/"
        },
        "id": "6isWQ0VScLYx",
        "outputId": "bf589a44-c317-45b8-da0a-da6545deaaca"
      },
      "execution_count": 99,
      "outputs": [
        {
          "output_type": "execute_result",
          "data": {
            "text/plain": [
              "<tf.Tensor: shape=(2, 3), dtype=float64, numpy=\n",
              "array([[0.        , 0.69314718, 1.09861229],\n",
              "       [2.30258509, 2.39789527, 2.48490665]])>"
            ]
          },
          "metadata": {},
          "execution_count": 99
        }
      ]
    },
    {
      "cell_type": "markdown",
      "source": [
        "**Finding Accesss to GPU**\n"
      ],
      "metadata": {
        "id": "3TojBZMIdFsR"
      }
    },
    {
      "cell_type": "code",
      "source": [
        "print(tf.config.list_physical_devices('GPU'))\n",
        "     "
      ],
      "metadata": {
        "colab": {
          "base_uri": "https://localhost:8080/"
        },
        "id": "Gu-gAw5xcPuz",
        "outputId": "1752cfa0-3fd2-46db-9786-6cef2e257866"
      },
      "execution_count": 3,
      "outputs": [
        {
          "output_type": "stream",
          "name": "stdout",
          "text": [
            "[PhysicalDevice(name='/physical_device:GPU:0', device_type='GPU')]\n"
          ]
        }
      ]
    },
    {
      "cell_type": "code",
      "source": [
        "\n",
        "!nvidia-smi"
      ],
      "metadata": {
        "colab": {
          "base_uri": "https://localhost:8080/"
        },
        "id": "h31M8WZjddfL",
        "outputId": "28b6f139-188f-430a-8e68-12fd32361434"
      },
      "execution_count": 4,
      "outputs": [
        {
          "output_type": "stream",
          "name": "stdout",
          "text": [
            "Wed Feb 15 05:23:12 2023       \n",
            "+-----------------------------------------------------------------------------+\n",
            "| NVIDIA-SMI 510.47.03    Driver Version: 510.47.03    CUDA Version: 11.6     |\n",
            "|-------------------------------+----------------------+----------------------+\n",
            "| GPU  Name        Persistence-M| Bus-Id        Disp.A | Volatile Uncorr. ECC |\n",
            "| Fan  Temp  Perf  Pwr:Usage/Cap|         Memory-Usage | GPU-Util  Compute M. |\n",
            "|                               |                      |               MIG M. |\n",
            "|===============================+======================+======================|\n",
            "|   0  Tesla T4            Off  | 00000000:00:04.0 Off |                    0 |\n",
            "| N/A   44C    P0    26W /  70W |      3MiB / 15360MiB |      0%      Default |\n",
            "|                               |                      |                  N/A |\n",
            "+-------------------------------+----------------------+----------------------+\n",
            "                                                                               \n",
            "+-----------------------------------------------------------------------------+\n",
            "| Processes:                                                                  |\n",
            "|  GPU   GI   CI        PID   Type   Process name                  GPU Memory |\n",
            "|        ID   ID                                                   Usage      |\n",
            "|=============================================================================|\n",
            "|  No running processes found                                                 |\n",
            "+-----------------------------------------------------------------------------+\n"
          ]
        }
      ]
    }
  ]
}